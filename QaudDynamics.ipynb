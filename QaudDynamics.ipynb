{
 "cells": [
  {
   "cell_type": "markdown",
   "id": "847ddce9",
   "metadata": {},
   "source": []
  },
  {
   "cell_type": "markdown",
   "id": "c5f70d64",
   "metadata": {},
   "source": [
    "The equation of the motion of the quadrotor is as follows\n",
    "\n",
    "\\begin{equation}\n",
    "\\begin{aligned}\n",
    "\\ddot{\\phi} & = \\dot{\\theta}\\dot{\\psi}\\left(\\frac{I_y-I_z}{I_x}\\right) - \\frac{J_r}{I_x}\\dot{\\theta}\\Omega + \\frac{l}{I_x}U_2\\\\\n",
    "\\ddot{\\theta} & = \\dot{\\phi}\\dot{\\psi}\\left(\\frac{I_z-I_x}{I_y}\\right) + \\frac{J_r}{I_y}\\dot{\\phi}\\Omega + \\frac{l}{I_y}U_3\\\\\n",
    "\\ddot{\\psi} & = \\dot{\\phi}\\dot{\\theta}\\left(\\frac{I_x-I_y}{I_z}\\right) + \\frac{1}{I_z}U_4\\\\\n",
    "\\ddot{z} & = -g + (cos \\phi cos \\theta)\\frac{1}{m}U_1 \\\\\n",
    "\\ddot{x} & = (\\cos \\phi \\sin \\theta \\cos \\psi + \\sin \\phi \\sin \\psi)\\frac{1}{m}U_1 \\\\\n",
    "\\ddot{y} & = (\\cos \\phi \\sin \\theta \\sin \\psi - \\sin \\phi \\cos \\psi)\\frac{1}{m}U_1 \\\\\n",
    "\\end{aligned}\n",
    "\\end{equation}\n",
    "\n",
    "And the forces given the rotor rotation speeds are\n",
    "\n",
    "\\begin{equation}\n",
    "\\begin{aligned}\n",
    "U_1 &= b(\\Omega_1^2 + \\Omega_2^2 + \\Omega_3^2 + \\Omega_4^2) \\\\\n",
    "U_2 &= b(\\Omega_4^2 - \\Omega_2^2) \\\\\n",
    "U_3 &= b(\\Omega_3^2 + \\Omega_1^2) \\\\\n",
    "U_4 &= d(\\Omega_2^2 + \\Omega_4^2 - \\Omega_3^2 - \\Omega_4^2) \\\\\n",
    "\\Omega &= \\Omega_2 + \\Omega_4 - \\Omega_1 - \\Omega_3\n",
    "\\end{aligned}\n",
    "\\end{equation}\n",
    "\n",
    "\n"
   ]
  },
  {
   "cell_type": "code",
   "execution_count": 22,
   "id": "eedf42ed",
   "metadata": {},
   "outputs": [],
   "source": [
    "import numpy as np\n",
    "\n",
    "I_x = 0.004 # KgM^2\n",
    "I_y = 0.004 # KgM^2\n",
    "I_z = 0.008 # KgM^2\n",
    "J_r = 0.0003 # KgM^2\n",
    "m = 0.500 # Kg\n",
    "l = 0.25  # m\n",
    "b = 3e-5  # Ns^2\n",
    "d = 3e-7  # NMs^2\n",
    "g = 9.81  #Ms^2\n",
    "\n",
    "\n",
    "U_1_eq = 0.5*g  # N\n",
    "\n",
    "# The paremeters are from DUAL NEURAL NETWORK FOR ADAPTIVE SLIDING MODE CONTROL OF QUADROTOR HELICOPTER STABILIZATION\n",
    "\n",
    "def quad(state, t):\n",
    "    dot_phi, dot_theta, dot_psi, phi, theta, psi, dot_z, dot_x, dot_y, z, x, y  = state\n",
    "    \n",
    "    # control start #\n",
    "    U_1 = U_1_eq\n",
    "    U_2 = -0.01\n",
    "    U_3 = 0\n",
    "    U_4 = 0\n",
    "    Omega = 0\n",
    "    # control ends #\n",
    "    \n",
    "    ddot_phi   = dot_theta * dot_psi   * (I_y-I_z)/I_x - J_r/I_x*dot_theta* Omega + l/I_x*U_2\n",
    "    ddot_theta = dot_phi   * dot_psi   * (I_z-I_x)/I_y + J_r/I_y*dot_phi*   Omega + l/I_y*U_3\n",
    "    ddot_psi   = dot_phi   * dot_theta * (I_x-I_y)/I_z                            + 1/I_z*U_4\n",
    "    \n",
    "    ddot_z = -g + np.cos(phi)*np.cos(theta)/m*U_1\n",
    "    ddot_x = (np.cos(phi)*np.sin(theta)*np.cos(psi)+np.sin(phi)*np.sin(psi))/m*U_1\n",
    "    ddot_y = (np.cos(phi)*np.sin(theta)*np.sin(psi)-np.sin(phi)*np.cos(psi))/m*U_1\n",
    "    \n",
    "    d_state_dt = [ddot_phi, ddot_theta, ddot_psi, dot_phi, dot_theta, dot_psi, ddot_z, ddot_x, ddot_y, dot_z, dot_x, dot_y]\n",
    "    \n",
    "    return d_state_dt\n",
    "\n",
    "\n",
    "state0 = [0,0,0,0,0,0,0,0,0,0,0,0]\n",
    "\n",
    "t = np.linspace(0, 10, 101)\n",
    "\n",
    "\n",
    "\n",
    "from scipy.integrate import odeint\n",
    "sol = odeint(quad, state0, t)\n"
   ]
  },
  {
   "cell_type": "code",
   "execution_count": 24,
   "id": "0a885ff6",
   "metadata": {},
   "outputs": [
    {
     "data": {
      "image/png": "[encoded data removed]",
      "text/plain": [
       "<Figure size 432x288 with 1 Axes>"
      ]
     },
     "metadata": {
      "needs_background": "light"
     },
     "output_type": "display_data"
    }
   ],
   "source": [
    "import matplotlib.pyplot as plt\n",
    "\n",
    "#plt.plot(t, sol[:, 6], 'b', label='dot_z')\n",
    "plt.plot(t, sol[:, 0], 'g', label='dot_phi')\n",
    "plt.legend(loc='best')\n",
    "plt.xlabel('t')\n",
    "plt.grid()\n",
    "plt.show()\n"
   ]
  },
  {
   "cell_type": "code",
   "execution_count": null,
   "id": "5f950b33",
   "metadata": {},
   "outputs": [],
   "source": []
  }
 ],
 "metadata": {
  "kernelspec": {
   "display_name": "Python 3 (ipykernel)",
   "language": "python",
   "name": "python3"
  },
  "language_info": {
   "codemirror_mode": {
    "name": "ipython",
    "version": 3
   },
   "file_extension": ".py",
   "mimetype": "text/x-python",
   "name": "python",
   "nbconvert_exporter": "python",
   "pygments_lexer": "ipython3",
   "version": "3.9.7"
  }
 },
 "nbformat": 4,
 "nbformat_minor": 5
}
